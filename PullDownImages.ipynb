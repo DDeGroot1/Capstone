{
 "cells": [
  {
   "cell_type": "code",
   "execution_count": 1,
   "id": "2593fd5e",
   "metadata": {},
   "outputs": [
    {
     "name": "stdout",
     "output_type": "stream",
     "text": [
      "Requirement already satisfied: kaggle in c:\\users\\ddegroot\\anaconda3\\lib\\site-packages (1.5.12)\n",
      "Requirement already satisfied: urllib3 in c:\\users\\ddegroot\\anaconda3\\lib\\site-packages (from kaggle) (1.26.7)\n",
      "Requirement already satisfied: requests in c:\\users\\ddegroot\\anaconda3\\lib\\site-packages (from kaggle) (2.26.0)\n",
      "Requirement already satisfied: tqdm in c:\\users\\ddegroot\\anaconda3\\lib\\site-packages (from kaggle) (4.62.3)\n",
      "Requirement already satisfied: python-slugify in c:\\users\\ddegroot\\anaconda3\\lib\\site-packages (from kaggle) (5.0.2)\n",
      "Requirement already satisfied: certifi in c:\\users\\ddegroot\\anaconda3\\lib\\site-packages (from kaggle) (2021.10.8)\n",
      "Requirement already satisfied: python-dateutil in c:\\users\\ddegroot\\anaconda3\\lib\\site-packages (from kaggle) (2.8.2)\n",
      "Requirement already satisfied: six>=1.10 in c:\\users\\ddegroot\\anaconda3\\lib\\site-packages (from kaggle) (1.16.0)\n",
      "Requirement already satisfied: text-unidecode>=1.3 in c:\\users\\ddegroot\\anaconda3\\lib\\site-packages (from python-slugify->kaggle) (1.3)\n",
      "Requirement already satisfied: charset-normalizer~=2.0.0 in c:\\users\\ddegroot\\anaconda3\\lib\\site-packages (from requests->kaggle) (2.0.4)\n",
      "Requirement already satisfied: idna<4,>=2.5 in c:\\users\\ddegroot\\anaconda3\\lib\\site-packages (from requests->kaggle) (3.2)\n",
      "Requirement already satisfied: colorama in c:\\users\\ddegroot\\anaconda3\\lib\\site-packages (from tqdm->kaggle) (0.4.4)\n",
      "Note: you may need to restart the kernel to use updated packages.\n"
     ]
    }
   ],
   "source": [
    "pip install kaggle"
   ]
  },
  {
   "cell_type": "code",
   "execution_count": 2,
   "id": "e3bc28f5",
   "metadata": {},
   "outputs": [],
   "source": [
    "import os\n",
    "######################## GET IMAGES FROM KAGGLE AND INTO PYTHON ########################\n",
    "#This function downloads the dataset from Kaggle.com and stores it in the working directory\n",
    "def DownloadDataset():\n",
    "    os.environ['KAGGLE_USERNAME'] = 'capstoneddg'\n",
    "    os.environ['KAGGLE_KEY'] = '43717164337825aa55a1ba0dc8c4b0f2'\n",
    "    from kaggle.api.kaggle_api_extended import KaggleApi\n",
    "    api = KaggleApi()\n",
    "    print(\"Authenticating API\")\n",
    "    api.authenticate()\n",
    "    print(\"Downloading Dataset to Working Directory\")\n",
    "    print(\"This could take a few minutes.\")\n",
    "    api.dataset_download_file(\"crowww/a-large-scale-fish-dataset\", file_name = '')\n",
    "    print(\"Download Complete\")\n"
   ]
  },
  {
   "cell_type": "code",
   "execution_count": 3,
   "id": "c8580e65",
   "metadata": {},
   "outputs": [
    {
     "name": "stdout",
     "output_type": "stream",
     "text": [
      "Authenticating API\n",
      "Downloading Dataset to Working Directory\n",
      "This could take a few minutes.\n",
      "Download Complete\n"
     ]
    }
   ],
   "source": [
    "if os.path.exists(os.path.join(os.getcwd (),'archive.zip')):\n",
    "    pass\n",
    "else:\n",
    "    DownloadDataset()"
   ]
  },
  {
   "cell_type": "code",
   "execution_count": null,
   "id": "c2bf7ef0",
   "metadata": {},
   "outputs": [],
   "source": []
  }
 ],
 "metadata": {
  "kernelspec": {
   "display_name": "Python 3 (ipykernel)",
   "language": "python",
   "name": "python3"
  },
  "language_info": {
   "codemirror_mode": {
    "name": "ipython",
    "version": 3
   },
   "file_extension": ".py",
   "mimetype": "text/x-python",
   "name": "python",
   "nbconvert_exporter": "python",
   "pygments_lexer": "ipython3",
   "version": "3.9.7"
  }
 },
 "nbformat": 4,
 "nbformat_minor": 5
}
