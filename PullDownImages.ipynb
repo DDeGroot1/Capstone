{
 "cells": [
  {
   "cell_type": "code",
   "execution_count": null,
   "id": "2593fd5e",
   "metadata": {},
   "outputs": [],
   "source": [
    "pip install kaggle"
   ]
  },
  {
   "cell_type": "code",
   "execution_count": null,
   "id": "e3bc28f5",
   "metadata": {},
   "outputs": [],
   "source": [
    "import os\n",
    "from kaggle.api.kaggle_api_extended import KaggleApi\n",
    "\n",
    "def DownloadDataset():\n",
    "    api = KaggleApi()\n",
    "    print(\"Authenticating API\")\n",
    "    api.authenticate()\n",
    "    print(\"Downloading Dataset to Working Directory\")\n",
    "    print(\"This could take a few minutes.\")\n",
    "    api.dataset_download_file(\"crowww/a-large-scale-fish-dataset\", file_name = '')\n",
    "    print(\"Download Complete\")\n"
   ]
  },
  {
   "cell_type": "code",
   "execution_count": null,
   "id": "c8580e65",
   "metadata": {},
   "outputs": [],
   "source": [
    "if os.path.exists(os.path.join(os.getcwd (),'archive.zip')):\n",
    "    pass\n",
    "else:\n",
    "    DownloadDataset()"
   ]
  }
 ],
 "metadata": {
  "kernelspec": {
   "display_name": "Python 3 (ipykernel)",
   "language": "python",
   "name": "python3"
  },
  "language_info": {
   "codemirror_mode": {
    "name": "ipython",
    "version": 3
   },
   "file_extension": ".py",
   "mimetype": "text/x-python",
   "name": "python",
   "nbconvert_exporter": "python",
   "pygments_lexer": "ipython3",
   "version": "3.9.7"
  }
 },
 "nbformat": 4,
 "nbformat_minor": 5
}
