{
 "cells": [
  {
   "cell_type": "markdown",
   "metadata": {},
   "source": [
    "### Installing Required Libraries"
   ]
  },
  {
   "cell_type": "code",
   "execution_count": 1,
   "metadata": {},
   "outputs": [
    {
     "name": "stdout",
     "output_type": "stream",
     "text": [
      "Requirement already satisfied: numpy in c:\\users\\ddegroot\\anaconda3\\lib\\site-packages (1.20.3)\n",
      "Requirement already satisfied: pandas in c:\\users\\ddegroot\\anaconda3\\lib\\site-packages (1.3.4)\n",
      "Requirement already satisfied: matplotlib in c:\\users\\ddegroot\\anaconda3\\lib\\site-packages (3.4.3)\n",
      "Requirement already satisfied: kaggle in c:\\users\\ddegroot\\anaconda3\\lib\\site-packages (1.5.12)\n",
      "Requirement already satisfied: seaborn in c:\\users\\ddegroot\\anaconda3\\lib\\site-packages (0.11.2)\n",
      "Requirement already satisfied: opencv-python in c:\\users\\ddegroot\\anaconda3\\lib\\site-packages (4.5.5.62)\n",
      "Requirement already satisfied: random2 in c:\\users\\ddegroot\\anaconda3\\lib\\site-packages (1.0.1)\n",
      "Requirement already satisfied: dataframe_image in c:\\users\\ddegroot\\anaconda3\\lib\\site-packages (0.1.1)\n",
      "Requirement already satisfied: statsmodels in c:\\users\\ddegroot\\anaconda3\\lib\\site-packages (0.12.2)\n",
      "Requirement already satisfied: scikit-image in c:\\users\\ddegroot\\anaconda3\\lib\\site-packages (0.18.3)\n",
      "Requirement already satisfied: scikit-learn in c:\\users\\ddegroot\\anaconda3\\lib\\site-packages (1.0.2)\n",
      "Requirement already satisfied: keras-models in c:\\users\\ddegroot\\anaconda3\\lib\\site-packages (0.0.7)\n",
      "Requirement already satisfied: zipfile36 in c:\\users\\ddegroot\\anaconda3\\lib\\site-packages (0.1.3)\n",
      "Requirement already satisfied: Pillow in c:\\users\\ddegroot\\anaconda3\\lib\\site-packages (8.4.0)\n",
      "Requirement already satisfied: joblib in c:\\users\\ddegroot\\anaconda3\\lib\\site-packages (1.0.1)\n",
      "Requirement already satisfied: tensorflow in c:\\users\\ddegroot\\anaconda3\\lib\\site-packages (2.8.0)\n",
      "Requirement already satisfied: keras in c:\\users\\ddegroot\\anaconda3\\lib\\site-packages (2.8.0)\n",
      "Requirement already satisfied: python-dateutil>=2.7.3 in c:\\users\\ddegroot\\anaconda3\\lib\\site-packages (from pandas) (2.8.2)\n",
      "Requirement already satisfied: pytz>=2017.3 in c:\\users\\ddegroot\\anaconda3\\lib\\site-packages (from pandas) (2021.3)\n",
      "Requirement already satisfied: cycler>=0.10 in c:\\users\\ddegroot\\anaconda3\\lib\\site-packages (from matplotlib) (0.10.0)\n",
      "Requirement already satisfied: kiwisolver>=1.0.1 in c:\\users\\ddegroot\\anaconda3\\lib\\site-packages (from matplotlib) (1.3.1)\n",
      "Requirement already satisfied: pyparsing>=2.2.1 in c:\\users\\ddegroot\\anaconda3\\lib\\site-packages (from matplotlib) (3.0.4)\n",
      "Requirement already satisfied: six>=1.10 in c:\\users\\ddegroot\\anaconda3\\lib\\site-packages (from kaggle) (1.16.0)\n",
      "Requirement already satisfied: urllib3 in c:\\users\\ddegroot\\anaconda3\\lib\\site-packages (from kaggle) (1.26.7)\n",
      "Requirement already satisfied: certifi in c:\\users\\ddegroot\\anaconda3\\lib\\site-packages (from kaggle) (2021.10.8)\n",
      "Requirement already satisfied: python-slugify in c:\\users\\ddegroot\\anaconda3\\lib\\site-packages (from kaggle) (5.0.2)\n",
      "Requirement already satisfied: requests in c:\\users\\ddegroot\\anaconda3\\lib\\site-packages (from kaggle) (2.26.0)\n",
      "Requirement already satisfied: tqdm in c:\\users\\ddegroot\\anaconda3\\lib\\site-packages (from kaggle) (4.62.3)\n",
      "Requirement already satisfied: scipy>=1.0 in c:\\users\\ddegroot\\anaconda3\\lib\\site-packages (from seaborn) (1.7.1)\n",
      "Requirement already satisfied: nbconvert>=5 in c:\\users\\ddegroot\\anaconda3\\lib\\site-packages (from dataframe_image) (6.1.0)\n",
      "Requirement already satisfied: beautifulsoup4 in c:\\users\\ddegroot\\anaconda3\\lib\\site-packages (from dataframe_image) (4.10.0)\n",
      "Requirement already satisfied: aiohttp in c:\\users\\ddegroot\\anaconda3\\lib\\site-packages (from dataframe_image) (3.8.1)\n",
      "Requirement already satisfied: patsy>=0.5 in c:\\users\\ddegroot\\anaconda3\\lib\\site-packages (from statsmodels) (0.5.2)\n",
      "Requirement already satisfied: networkx>=2.0 in c:\\users\\ddegroot\\anaconda3\\lib\\site-packages (from scikit-image) (2.6.3)\n",
      "Requirement already satisfied: imageio>=2.3.0 in c:\\users\\ddegroot\\anaconda3\\lib\\site-packages (from scikit-image) (2.9.0)\n",
      "Requirement already satisfied: tifffile>=2019.7.26 in c:\\users\\ddegroot\\anaconda3\\lib\\site-packages (from scikit-image) (2021.7.2)\n",
      "Requirement already satisfied: PyWavelets>=1.1.1 in c:\\users\\ddegroot\\anaconda3\\lib\\site-packages (from scikit-image) (1.1.1)\n",
      "Requirement already satisfied: threadpoolctl>=2.0.0 in c:\\users\\ddegroot\\anaconda3\\lib\\site-packages (from scikit-learn) (2.2.0)\n",
      "Requirement already satisfied: pathlib in c:\\users\\ddegroot\\anaconda3\\lib\\site-packages (from keras-models) (1.0.1)\n",
      "Requirement already satisfied: spacy in c:\\users\\ddegroot\\anaconda3\\lib\\site-packages (from keras-models) (3.2.2)\n",
      "Requirement already satisfied: termcolor>=1.1.0 in c:\\users\\ddegroot\\anaconda3\\lib\\site-packages (from tensorflow) (1.1.0)\n",
      "Requirement already satisfied: protobuf>=3.9.2 in c:\\users\\ddegroot\\anaconda3\\lib\\site-packages (from tensorflow) (3.19.4)\n",
      "Requirement already satisfied: tf-estimator-nightly==2.8.0.dev2021122109 in c:\\users\\ddegroot\\anaconda3\\lib\\site-packages (from tensorflow) (2.8.0.dev2021122109)\n",
      "Requirement already satisfied: keras-preprocessing>=1.1.1 in c:\\users\\ddegroot\\anaconda3\\lib\\site-packages (from tensorflow) (1.1.2)\n",
      "Requirement already satisfied: setuptools in c:\\users\\ddegroot\\anaconda3\\lib\\site-packages (from tensorflow) (58.0.4)\n",
      "Requirement already satisfied: tensorflow-io-gcs-filesystem>=0.23.1 in c:\\users\\ddegroot\\anaconda3\\lib\\site-packages (from tensorflow) (0.24.0)\n",
      "Requirement already satisfied: tensorboard<2.9,>=2.8 in c:\\users\\ddegroot\\anaconda3\\lib\\site-packages (from tensorflow) (2.8.0)\n",
      "Requirement already satisfied: grpcio<2.0,>=1.24.3 in c:\\users\\ddegroot\\anaconda3\\lib\\site-packages (from tensorflow) (1.43.0)\n",
      "Requirement already satisfied: opt-einsum>=2.3.2 in c:\\users\\ddegroot\\anaconda3\\lib\\site-packages (from tensorflow) (3.3.0)\n",
      "Requirement already satisfied: wrapt>=1.11.0 in c:\\users\\ddegroot\\anaconda3\\lib\\site-packages (from tensorflow) (1.12.1)\n",
      "Requirement already satisfied: absl-py>=0.4.0 in c:\\users\\ddegroot\\anaconda3\\lib\\site-packages (from tensorflow) (1.0.0)\n",
      "Requirement already satisfied: astunparse>=1.6.0 in c:\\users\\ddegroot\\anaconda3\\lib\\site-packages (from tensorflow) (1.6.3)\n",
      "Requirement already satisfied: flatbuffers>=1.12 in c:\\users\\ddegroot\\anaconda3\\lib\\site-packages (from tensorflow) (2.0)\n",
      "Requirement already satisfied: libclang>=9.0.1 in c:\\users\\ddegroot\\anaconda3\\lib\\site-packages (from tensorflow) (13.0.0)\n",
      "Requirement already satisfied: gast>=0.2.1 in c:\\users\\ddegroot\\anaconda3\\lib\\site-packages (from tensorflow) (0.5.3)\n",
      "Requirement already satisfied: h5py>=2.9.0 in c:\\users\\ddegroot\\anaconda3\\lib\\site-packages (from tensorflow) (3.2.1)\n",
      "Requirement already satisfied: google-pasta>=0.1.1 in c:\\users\\ddegroot\\anaconda3\\lib\\site-packages (from tensorflow) (0.2.0)\n",
      "Requirement already satisfied: typing-extensions>=3.6.6 in c:\\users\\ddegroot\\anaconda3\\lib\\site-packages (from tensorflow) (3.10.0.2)\n",
      "Requirement already satisfied: wheel<1.0,>=0.23.0 in c:\\users\\ddegroot\\anaconda3\\lib\\site-packages (from astunparse>=1.6.0->tensorflow) (0.37.0)\n",
      "Requirement already satisfied: bleach in c:\\users\\ddegroot\\anaconda3\\lib\\site-packages (from nbconvert>=5->dataframe_image) (4.0.0)\n",
      "Requirement already satisfied: nbclient<0.6.0,>=0.5.0 in c:\\users\\ddegroot\\anaconda3\\lib\\site-packages (from nbconvert>=5->dataframe_image) (0.5.3)\n",
      "Requirement already satisfied: traitlets>=5.0 in c:\\users\\ddegroot\\anaconda3\\lib\\site-packages (from nbconvert>=5->dataframe_image) (5.1.0)\n",
      "Requirement already satisfied: nbformat>=4.4 in c:\\users\\ddegroot\\anaconda3\\lib\\site-packages (from nbconvert>=5->dataframe_image) (5.1.3)\n",
      "Requirement already satisfied: jupyter-core in c:\\users\\ddegroot\\anaconda3\\lib\\site-packages (from nbconvert>=5->dataframe_image) (4.8.1)\n",
      "Requirement already satisfied: defusedxml in c:\\users\\ddegroot\\anaconda3\\lib\\site-packages (from nbconvert>=5->dataframe_image) (0.7.1)\n",
      "Requirement already satisfied: mistune<2,>=0.8.1 in c:\\users\\ddegroot\\anaconda3\\lib\\site-packages (from nbconvert>=5->dataframe_image) (0.8.4)\n",
      "Requirement already satisfied: jupyterlab-pygments in c:\\users\\ddegroot\\anaconda3\\lib\\site-packages (from nbconvert>=5->dataframe_image) (0.1.2)\n",
      "Requirement already satisfied: pandocfilters>=1.4.1 in c:\\users\\ddegroot\\anaconda3\\lib\\site-packages (from nbconvert>=5->dataframe_image) (1.4.3)\n",
      "Requirement already satisfied: pygments>=2.4.1 in c:\\users\\ddegroot\\anaconda3\\lib\\site-packages (from nbconvert>=5->dataframe_image) (2.10.0)\n",
      "Requirement already satisfied: testpath in c:\\users\\ddegroot\\anaconda3\\lib\\site-packages (from nbconvert>=5->dataframe_image) (0.5.0)\n",
      "Requirement already satisfied: entrypoints>=0.2.2 in c:\\users\\ddegroot\\anaconda3\\lib\\site-packages (from nbconvert>=5->dataframe_image) (0.3)\n",
      "Requirement already satisfied: jinja2>=2.4 in c:\\users\\ddegroot\\anaconda3\\lib\\site-packages (from nbconvert>=5->dataframe_image) (2.11.3)\n",
      "Requirement already satisfied: MarkupSafe>=0.23 in c:\\users\\ddegroot\\anaconda3\\lib\\site-packages (from jinja2>=2.4->nbconvert>=5->dataframe_image) (2.0.1)\n",
      "Requirement already satisfied: jupyter-client>=6.1.5 in c:\\users\\ddegroot\\anaconda3\\lib\\site-packages (from nbclient<0.6.0,>=0.5.0->nbconvert>=5->dataframe_image) (6.1.12)\n",
      "Requirement already satisfied: nest-asyncio in c:\\users\\ddegroot\\anaconda3\\lib\\site-packages (from nbclient<0.6.0,>=0.5.0->nbconvert>=5->dataframe_image) (1.5.1)\n",
      "Requirement already satisfied: async-generator in c:\\users\\ddegroot\\anaconda3\\lib\\site-packages (from nbclient<0.6.0,>=0.5.0->nbconvert>=5->dataframe_image) (1.10)\n",
      "Requirement already satisfied: pyzmq>=13 in c:\\users\\ddegroot\\anaconda3\\lib\\site-packages (from jupyter-client>=6.1.5->nbclient<0.6.0,>=0.5.0->nbconvert>=5->dataframe_image) (22.2.1)\n",
      "Requirement already satisfied: tornado>=4.1 in c:\\users\\ddegroot\\anaconda3\\lib\\site-packages (from jupyter-client>=6.1.5->nbclient<0.6.0,>=0.5.0->nbconvert>=5->dataframe_image) (6.1)\n",
      "Requirement already satisfied: pywin32>=1.0 in c:\\users\\ddegroot\\anaconda3\\lib\\site-packages (from jupyter-core->nbconvert>=5->dataframe_image) (228)\n",
      "Requirement already satisfied: jsonschema!=2.5.0,>=2.4 in c:\\users\\ddegroot\\anaconda3\\lib\\site-packages (from nbformat>=4.4->nbconvert>=5->dataframe_image) (3.2.0)\n",
      "Requirement already satisfied: ipython-genutils in c:\\users\\ddegroot\\anaconda3\\lib\\site-packages (from nbformat>=4.4->nbconvert>=5->dataframe_image) (0.2.0)\n",
      "Requirement already satisfied: pyrsistent>=0.14.0 in c:\\users\\ddegroot\\anaconda3\\lib\\site-packages (from jsonschema!=2.5.0,>=2.4->nbformat>=4.4->nbconvert>=5->dataframe_image) (0.18.0)\n",
      "Requirement already satisfied: attrs>=17.4.0 in c:\\users\\ddegroot\\anaconda3\\lib\\site-packages (from jsonschema!=2.5.0,>=2.4->nbformat>=4.4->nbconvert>=5->dataframe_image) (21.2.0)\n",
      "Requirement already satisfied: werkzeug>=0.11.15 in c:\\users\\ddegroot\\anaconda3\\lib\\site-packages (from tensorboard<2.9,>=2.8->tensorflow) (2.0.2)\n",
      "Requirement already satisfied: markdown>=2.6.8 in c:\\users\\ddegroot\\anaconda3\\lib\\site-packages (from tensorboard<2.9,>=2.8->tensorflow) (3.3.6)\n",
      "Requirement already satisfied: google-auth-oauthlib<0.5,>=0.4.1 in c:\\users\\ddegroot\\anaconda3\\lib\\site-packages (from tensorboard<2.9,>=2.8->tensorflow) (0.4.6)\n",
      "Requirement already satisfied: tensorboard-data-server<0.7.0,>=0.6.0 in c:\\users\\ddegroot\\anaconda3\\lib\\site-packages (from tensorboard<2.9,>=2.8->tensorflow) (0.6.1)\n",
      "Requirement already satisfied: tensorboard-plugin-wit>=1.6.0 in c:\\users\\ddegroot\\anaconda3\\lib\\site-packages (from tensorboard<2.9,>=2.8->tensorflow) (1.8.1)\n",
      "Requirement already satisfied: google-auth<3,>=1.6.3 in c:\\users\\ddegroot\\anaconda3\\lib\\site-packages (from tensorboard<2.9,>=2.8->tensorflow) (2.6.0)\n",
      "Requirement already satisfied: rsa<5,>=3.1.4 in c:\\users\\ddegroot\\anaconda3\\lib\\site-packages (from google-auth<3,>=1.6.3->tensorboard<2.9,>=2.8->tensorflow) (4.8)\n",
      "Requirement already satisfied: pyasn1-modules>=0.2.1 in c:\\users\\ddegroot\\anaconda3\\lib\\site-packages (from google-auth<3,>=1.6.3->tensorboard<2.9,>=2.8->tensorflow) (0.2.8)\n",
      "Requirement already satisfied: cachetools<6.0,>=2.0.0 in c:\\users\\ddegroot\\anaconda3\\lib\\site-packages (from google-auth<3,>=1.6.3->tensorboard<2.9,>=2.8->tensorflow) (5.0.0)\n",
      "Requirement already satisfied: requests-oauthlib>=0.7.0 in c:\\users\\ddegroot\\anaconda3\\lib\\site-packages (from google-auth-oauthlib<0.5,>=0.4.1->tensorboard<2.9,>=2.8->tensorflow) (1.3.1)\n",
      "Requirement already satisfied: importlib-metadata>=4.4 in c:\\users\\ddegroot\\anaconda3\\lib\\site-packages (from markdown>=2.6.8->tensorboard<2.9,>=2.8->tensorflow) (4.8.1)\n",
      "Requirement already satisfied: zipp>=0.5 in c:\\users\\ddegroot\\anaconda3\\lib\\site-packages (from importlib-metadata>=4.4->markdown>=2.6.8->tensorboard<2.9,>=2.8->tensorflow) (3.6.0)\n",
      "Requirement already satisfied: pyasn1<0.5.0,>=0.4.6 in c:\\users\\ddegroot\\anaconda3\\lib\\site-packages (from pyasn1-modules>=0.2.1->google-auth<3,>=1.6.3->tensorboard<2.9,>=2.8->tensorflow) (0.4.8)\n",
      "Requirement already satisfied: charset-normalizer~=2.0.0 in c:\\users\\ddegroot\\anaconda3\\lib\\site-packages (from requests->kaggle) (2.0.4)\n",
      "Requirement already satisfied: idna<4,>=2.5 in c:\\users\\ddegroot\\anaconda3\\lib\\site-packages (from requests->kaggle) (3.2)\n",
      "Requirement already satisfied: oauthlib>=3.0.0 in c:\\users\\ddegroot\\anaconda3\\lib\\site-packages (from requests-oauthlib>=0.7.0->google-auth-oauthlib<0.5,>=0.4.1->tensorboard<2.9,>=2.8->tensorflow) (3.2.0)\n",
      "Requirement already satisfied: multidict<7.0,>=4.5 in c:\\users\\ddegroot\\anaconda3\\lib\\site-packages (from aiohttp->dataframe_image) (6.0.2)\n",
      "Requirement already satisfied: async-timeout<5.0,>=4.0.0a3 in c:\\users\\ddegroot\\anaconda3\\lib\\site-packages (from aiohttp->dataframe_image) (4.0.2)\n",
      "Requirement already satisfied: yarl<2.0,>=1.0 in c:\\users\\ddegroot\\anaconda3\\lib\\site-packages (from aiohttp->dataframe_image) (1.7.2)\n",
      "Requirement already satisfied: aiosignal>=1.1.2 in c:\\users\\ddegroot\\anaconda3\\lib\\site-packages (from aiohttp->dataframe_image) (1.2.0)\n",
      "Requirement already satisfied: frozenlist>=1.1.1 in c:\\users\\ddegroot\\anaconda3\\lib\\site-packages (from aiohttp->dataframe_image) (1.3.0)\n",
      "Requirement already satisfied: soupsieve>1.2 in c:\\users\\ddegroot\\anaconda3\\lib\\site-packages (from beautifulsoup4->dataframe_image) (2.2.1)\n",
      "Requirement already satisfied: webencodings in c:\\users\\ddegroot\\anaconda3\\lib\\site-packages (from bleach->nbconvert>=5->dataframe_image) (0.5.1)\n",
      "Requirement already satisfied: packaging in c:\\users\\ddegroot\\anaconda3\\lib\\site-packages (from bleach->nbconvert>=5->dataframe_image) (21.0)\n",
      "Requirement already satisfied: text-unidecode>=1.3 in c:\\users\\ddegroot\\anaconda3\\lib\\site-packages (from python-slugify->kaggle) (1.3)\n",
      "Requirement already satisfied: pydantic!=1.8,!=1.8.1,<1.9.0,>=1.7.4 in c:\\users\\ddegroot\\anaconda3\\lib\\site-packages (from spacy->keras-models) (1.8.2)\n",
      "Requirement already satisfied: thinc<8.1.0,>=8.0.12 in c:\\users\\ddegroot\\anaconda3\\lib\\site-packages (from spacy->keras-models) (8.0.13)\n",
      "Requirement already satisfied: pathy>=0.3.5 in c:\\users\\ddegroot\\anaconda3\\lib\\site-packages (from spacy->keras-models) (0.6.1)\n",
      "Requirement already satisfied: cymem<2.1.0,>=2.0.2 in c:\\users\\ddegroot\\anaconda3\\lib\\site-packages (from spacy->keras-models) (2.0.6)\n",
      "Requirement already satisfied: murmurhash<1.1.0,>=0.28.0 in c:\\users\\ddegroot\\anaconda3\\lib\\site-packages (from spacy->keras-models) (1.0.6)\n",
      "Requirement already satisfied: blis<0.8.0,>=0.4.0 in c:\\users\\ddegroot\\anaconda3\\lib\\site-packages (from spacy->keras-models) (0.7.6)\n",
      "Requirement already satisfied: srsly<3.0.0,>=2.4.1 in c:\\users\\ddegroot\\anaconda3\\lib\\site-packages (from spacy->keras-models) (2.4.2)\n",
      "Requirement already satisfied: typer<0.5.0,>=0.3.0 in c:\\users\\ddegroot\\anaconda3\\lib\\site-packages (from spacy->keras-models) (0.4.0)\n",
      "Requirement already satisfied: preshed<3.1.0,>=3.0.2 in c:\\users\\ddegroot\\anaconda3\\lib\\site-packages (from spacy->keras-models) (3.0.6)\n",
      "Requirement already satisfied: wasabi<1.1.0,>=0.8.1 in c:\\users\\ddegroot\\anaconda3\\lib\\site-packages (from spacy->keras-models) (0.9.0)\n",
      "Requirement already satisfied: catalogue<2.1.0,>=2.0.6 in c:\\users\\ddegroot\\anaconda3\\lib\\site-packages (from spacy->keras-models) (2.0.6)\n",
      "Requirement already satisfied: spacy-loggers<2.0.0,>=1.0.0 in c:\\users\\ddegroot\\anaconda3\\lib\\site-packages (from spacy->keras-models) (1.0.1)\n",
      "Requirement already satisfied: spacy-legacy<3.1.0,>=3.0.8 in c:\\users\\ddegroot\\anaconda3\\lib\\site-packages (from spacy->keras-models) (3.0.8)\n",
      "Requirement already satisfied: langcodes<4.0.0,>=3.2.0 in c:\\users\\ddegroot\\anaconda3\\lib\\site-packages (from spacy->keras-models) (3.3.0)\n",
      "Requirement already satisfied: smart-open<6.0.0,>=5.0.0 in c:\\users\\ddegroot\\anaconda3\\lib\\site-packages (from pathy>=0.3.5->spacy->keras-models) (5.2.1)\n",
      "Requirement already satisfied: colorama in c:\\users\\ddegroot\\anaconda3\\lib\\site-packages (from tqdm->kaggle) (0.4.4)\n",
      "Requirement already satisfied: click<9.0.0,>=7.1.1 in c:\\users\\ddegroot\\anaconda3\\lib\\site-packages (from typer<0.5.0,>=0.3.0->spacy->keras-models) (8.0.3)\n",
      "Note: you may need to restart the kernel to use updated packages.\n"
     ]
    }
   ],
   "source": [
    "pip install numpy pandas matplotlib kaggle seaborn opencv-python random2 dataframe_image statsmodels scikit-image scikit-learn keras-models zipfile36 Pillow joblib tensorflow keras"
   ]
  },
  {
   "cell_type": "markdown",
   "metadata": {},
   "source": [
    "### Importing Libraries"
   ]
  },
  {
   "cell_type": "code",
   "execution_count": 1,
   "metadata": {},
   "outputs": [],
   "source": [
    "import numpy as np\n",
    "from numpy import argmax\n",
    "import pandas as pd\n",
    "import matplotlib.pyplot as plt\n",
    "import seaborn as sns\n",
    "import os\n",
    "import cv2\n",
    "import random\n",
    "from collections import Counter\n",
    "import dataframe_image as dfi\n",
    "\n",
    "from statsmodels.tools import categorical\n",
    "from skimage.filters import prewitt_h,prewitt_v\n",
    "from sklearn.neighbors import KNeighborsClassifier\n",
    "from keras.models import load_model\n",
    "\n",
    "import zipfile\n",
    "from PIL import Image\n",
    "from sklearn.metrics import plot_confusion_matrix, multilabel_confusion_matrix, roc_auc_score,accuracy_score\n",
    "from sklearn.svm import SVC\n",
    "from sklearn.ensemble import RandomForestClassifier\n",
    "from sklearn.model_selection import RandomizedSearchCV\n",
    "\n",
    "import joblib\n",
    "import tensorflow as tf\n",
    "from tensorflow import keras\n",
    "from tensorflow.keras.models import Sequential\n",
    "from tensorflow.keras.layers import Dense, Dropout, Activation, Flatten, Conv2D, MaxPooling2D\n",
    "from sklearn.preprocessing import OneHotEncoder, MinMaxScaler\n",
    "from sklearn.model_selection import train_test_split\n",
    "import time\n"
   ]
  },
  {
   "cell_type": "markdown",
   "metadata": {},
   "source": [
    "### Setting Variables and Creating Functions"
   ]
  },
  {
   "cell_type": "code",
   "execution_count": 2,
   "metadata": {},
   "outputs": [],
   "source": [
    "FishCategories = [\"Black Sea Sprat\", \"Gilt-Head Bream\", \"Hourse Mackerel\", \"Red Mullet\", \n",
    "                  \"Red Sea Bream\", \"Sea Bass\", \"Shrimp\",\"Striped Red Mullet\", \"Trout\"]\n",
    "ColorLabels = ['Red','Orange','Brown','Tan','Blue', 'LightBlue','Gray', 'White','Black']\n",
    "np.array(ColorLabels)\n",
    "ColorValues = [[200,75,75], [200,125,75], [151,122,83], [217,171,118],[75,75,200],[165,165,165],[125,125,125],[235,235,235],[20,20,20]]\n",
    "ColorValuesMap = [[200,75,75], [200,125,75], [151,122,83], [217,171,118],[20,20,20],[20,20,20],[20,20,20],[235,235,235],[20,20,20]]\n",
    "\n",
    "\n",
    "######################## GET IMAGES FROM KAGGLE AND INTO PYTHON ########################\n",
    "#This function downloads the dataset from Kaggle.com and stores it in the working directory\n",
    "def DownloadDataset():\n",
    "    os.environ['KAGGLE_USERNAME'] = 'capstoneddg'\n",
    "    os.environ['KAGGLE_KEY'] = '43717164337825aa55a1ba0dc8c4b0f2'\n",
    "    from kaggle.api.kaggle_api_extended import KaggleApi\n",
    "    api = KaggleApi()\n",
    "    print(\"Authenticating API\")\n",
    "    api.authenticate()\n",
    "    print(\"Downloading Dataset to Working Directory\")\n",
    "    print(\"This could take a few minutes.\")\n",
    "    api.dataset_download_file(\"crowww/a-large-scale-fish-dataset\", file_name = '')\n",
    "    print(\"Download Complete\")\n",
    "\n",
    "#This function runs through the zip folder and extracts out the images   \n",
    "def GetData ():\n",
    "    RawColor = []\n",
    "    RawBW = []\n",
    "    ImageLabel = []\n",
    "    FishPosition = []\n",
    "    counter = 0\n",
    "    print(\"Getting Images\")\n",
    "    with zipfile.ZipFile(os.path.join(os.getcwd(),'archive.zip'), 'r') as zipref:\n",
    "        for imagepath in zipref.namelist():\n",
    "            if (imagepath.__contains__('GT')):\n",
    "                pass\n",
    "            elif (imagepath.__contains__('NA_Fish_Dataset')):\n",
    "                pass\n",
    "            elif (imagepath.__contains__('png')): #Text was img\n",
    "                for FishType in FishCategories:\n",
    "                    if imagepath.__contains__(FishType):\n",
    "                        fishcategory = FishType\n",
    "                        FishNumber = FishCategories.index(FishType)\n",
    "                OriginalImage = Image.open(zipref.open(imagepath))\n",
    "                OriginalImagePixelBGR = np.array(OriginalImage)\n",
    "                ImageLabel.append(fishcategory)\n",
    "                FishPosition.append(FishNumber)\n",
    "                #RawBW.append(cv2.cvtColor(OriginalImagePixelBGR, cv2.COLOR_BGR2GRAY))\n",
    "                RawColor.append(OriginalImagePixelBGR)    \n",
    "                if (counter + 1) % 1500==0:\n",
    "                    print(\"Retrieved\",counter + 1,\"Images of 9000\")\n",
    "                elif counter == 0:\n",
    "                    print(\"Retrieved\",counter,\"Images of 9000\")\n",
    "                counter = counter + 1\n",
    "    return np.array(RawColor), np.array(ImageLabel), np.array(FishPosition)\n",
    "\n",
    "\n",
    "######################## FOR DATA EXPLORATION ########################\n",
    "# Shapes the image approperately for modeling\n",
    "def GetFlattenedImageForClassification(Img, w, h):\n",
    "    return np.reshape(Img,(w*h,3))\n",
    "\n",
    "\n",
    "######################## COMMON FUNCTIONS ########################\n",
    "#simple function for resizing images\n",
    "def Resize(image_,w,h):\n",
    "    newsize = (w, h)\n",
    "    return cv2.resize(image_, dsize = newsize)\n",
    "\n",
    "# This function gets a random sampling between 1 and 9000. \n",
    "def RandomSample(SampleAmount):\n",
    "    ListRange = range(9000)\n",
    "    Sample = []\n",
    "    for i in range(SampleAmount):\n",
    "        Sample.append(random.choice(ListRange))\n",
    "    return Sample\n",
    "\n",
    "#Saves models to the working directory\n",
    "def SaveFile(Model,FileName):\n",
    "    Model.save(FileName) \n",
    "    print(\"Saved model to disk\")\n",
    " \n",
    " #Opens a model from the working directory\n",
    "def OpenFile(FileName):\n",
    "    return load_model(FileName)\n",
    "\n",
    "def AddColorDistortionToImage(ImageNum,pct):\n",
    "    x,y,d = ResizeImages[ImageNum].shape\n",
    "    InterCount = round(x*y*pct/100)\n",
    "    for i in range(InterCount):\n",
    "        RandomNumOfColors = random.randint(1,3)\n",
    "        RandPos_x = random.randint(0,x-1)\n",
    "        RandPos_y = random.randint(0,y-1)\n",
    "        for j in range(RandomNumOfColors):\n",
    "            RandPixVal = random.randint(0, 255)\n",
    "            RandColorLvl = random.randint(0,2)\n",
    "            ResizeImages[ImageNum][RandPos_x,RandPos_y,RandColorLvl] = RandPixVal\n",
    "    return\n",
    "\n",
    "######################## MODELS ########################\n",
    "\n",
    "#Using the colors below each pixel in every image is classified as one of those colors. From there\n",
    "#the pixels that are black and blue  are removed from the image and the rest of the colors are \n",
    "#counted and totaled so they can be used in the KNN, SVM, and RF\n",
    "\n",
    "def ClassifyPixelColor(width, height, samplesize):\n",
    "    ColorLabels = ['Red','Orange','Brown','Tan','Blue', 'LightBlue','Gray', 'White','Black']\n",
    "    ColorValues = [[200,75,75], [200,125,75], [151,122,83], [217,171,118],[75,75,200],[165,165,165],[125,125,125],[235,235,235],[20,20,20]]\n",
    "    ColorValuesMap = [[200,75,75], [200,125,75], [151,122,83], [217,171,118],[20,20,20],[20,20,20],[20,20,20],[235,235,235],[20,20,20]]\n",
    "    w = width\n",
    "    h = height\n",
    "    zeros = np.zeros(9, dtype=int)\n",
    "    dim = (w,h)\n",
    "    totals = []\n",
    "    ModifiedImages = []\n",
    "    ModifiedImagesWoMap = []\n",
    "    OriginalResizedImages = []\n",
    "    ClLabels = []\n",
    "    sampleset = ResizeImages[RandomSample(samplesize)]\n",
    "\n",
    "    for i in range(samplesize):\n",
    "        ClassifiedLabels = []\n",
    "        Reshaped = np.reshape(sampleset[i],(w*h,3))\n",
    "        ReshapedWOMap = Reshaped\n",
    "        ColorLabels = np.array(ColorLabels)\n",
    "        zeros = np.zeros(9, dtype=int)\n",
    "        for p in range(w*h):\n",
    "            Dif = np.array(np.sum(abs(Reshaped[p]-ColorValues), axis = 1))\n",
    "            Current = 1000\n",
    "            for c in range(len(ColorLabels)):\n",
    "                if Dif[c] < Current:\n",
    "                    ColorWithMap = ColorValuesMap[c]\n",
    "                    ColorWithoutMap = ColorValues[c]\n",
    "                    ColorLabelsMap = ColorLabels[c] \n",
    "                    Current = Dif[c]\n",
    "            zeros[ColorValuesMap.index(ColorWithMap)] = zeros[ColorValuesMap.index(ColorWithMap)] + 1\n",
    "            Reshaped[p] = ColorWithMap\n",
    "            ReshapedWOMap[p] = ColorWithoutMap\n",
    "            ClassifiedLabels.append(ColorLabelsMap)\n",
    "        totals.append(zeros)\n",
    "        ModifiedImages.append(np.reshape(Reshaped,(h,w,3)))\n",
    "        ModifiedImagesWoMap.append(np.reshape(ReshapedWOMap, (h,w,3)))\n",
    "        OriginalResizedImages.append(sampleset[i])\n",
    "        ClLabels.append([ClassifiedLabels])\n",
    "    totals = np.array(totals)\n",
    "    totals = pd.DataFrame(totals)\n",
    "    totals.columns = [\"Reds\", \"Oranges\", \"Browns\", \"Tans\", \"Blues\", \"LightBlues\", \"Grays\", \"Whites\", \"Blacks\"]\n",
    "    totalsAdj = totals[[\"Reds\", \"Oranges\", \"Browns\", \"Tans\", \"Grays\",\"Whites\"]]\n",
    "    return np.array(OriginalResizedImages), np.array(ModifiedImagesWoMap), np.array(ModifiedImages),np.array(ClLabels) ,totals\n",
    "\n",
    "def TrainPixelClassificationModel():\n",
    "    X = []\n",
    "    Y = []\n",
    "    wl,hl,dl = ClassifiedLabels.shape\n",
    "    for i in range(len(NewImage)):\n",
    "        W,H,D = NewImage[i].shape \n",
    "        X.append(np.reshape(OriginalImage[i],(W*H,D)))\n",
    "        Y.append(ClassifiedLabels[i])\n",
    "    #print(\"Labels Obtained\")\n",
    "    im_count, pix_count, rgb = np.array(X).shape  \n",
    "    x = pd.DataFrame(np.reshape(X,(im_count*pix_count,3)))\n",
    "    y = np.reshape(Y,(wl*hl*dl))\n",
    "   # print(\"Training Classifier\")\n",
    "    PixelClassifier = RandomForestClassifier(n_estimators=1, \n",
    "                            min_samples_split = 5, \n",
    "                            min_samples_leaf=2,\n",
    "                            max_features = 'sqrt',\n",
    "                            bootstrap = False)\n",
    "    PixelClassifierFitted = PixelClassifier.fit(x, y)\n",
    "    print(\"Score: \",PixelClassifierFitted.score(x,y))\n",
    "    joblib.dump(PixelClassifierFitted, \"NonCNNModels/PixelClassifierFitted.joblib\")\n",
    "    return\n",
    "\n",
    "# builds the fitted CNN model\n",
    "def BuildCNN(ResizeH, ResizeW, BatchSize, Epochs, X, Y,ArrayDepth):\n",
    "    #GET IMAGE LABELS\n",
    "    encoder = OneHotEncoder(sparse=False)\n",
    "    Y_VALUE = pd.DataFrame(Y)\n",
    "    Y_VALUE = Y_VALUE.astype('category')\n",
    "    Y_VALUE_CAT = pd.DataFrame(encoder.fit_transform(Y_VALUE)) \n",
    "    \n",
    "    #RESIZES THE IMAGES\n",
    "    ResizedImages = []\n",
    "    for i in range(len(X)):\n",
    "        R_images = X[i]\n",
    "        ResizedImages.append(R_images)\n",
    "    ResizedImages = np.array(ResizedImages)/255\n",
    "    \n",
    "    #TRAIN TEST SPLIT\n",
    "    X_train, X_test, y_train, y_test = train_test_split(ResizedImages, Y_VALUE_CAT, test_size=0.33, random_state=42)\n",
    "    y_test_array = argmax(np.array(y_test), axis=-1).astype('int')\n",
    "    y_train_array = argmax(np.array(y_train), axis=-1).astype('int')\n",
    "    \n",
    "    #CONSTRUCT LAYERS MODEL\n",
    "    model = Sequential()\n",
    "    model.add(Conv2D(64, (3, 3), activation='relu', input_shape=(ResizeH, ResizeW, ArrayDepth)))\n",
    "    model.add(MaxPooling2D(pool_size = (2, 2)))\n",
    "\n",
    "    model.add(Conv2D(128, (3, 3), activation='relu'))\n",
    "    model.add(MaxPooling2D(pool_size = (3, 3)))\n",
    "\n",
    "    #model.add(Conv2D(64, (3, 3), activation='relu'))\n",
    "    #model.add(MaxPooling2D(pool_size = (2, 2)))\n",
    "    model.add(Flatten())\n",
    "\n",
    "    model.add(Dense(256, activation = 'relu'))\n",
    "    model.add(Dense(9, activation = \"softmax\"))\n",
    "    model.compile(loss='categorical_crossentropy', optimizer = 'adam', metrics = ['accuracy'])\n",
    "    \n",
    "    #TRAIN MODEL\n",
    "    model.fit(X_train, y_train, batch_size = BatchSize, epochs = Epochs)\n",
    "    \n",
    "    return model, X_test, y_test_array, X_train, y_train_array\n",
    "\n",
    "\n",
    "\n",
    "######################## RESULTS FUNCTIONS ########################\n",
    "# Converts image into preprocessed image\n",
    "def GetPixelClassifiedImage (Img,w,h,Fitted):\n",
    "    Image = np.reshape(Img,(w*h,3))\n",
    "    PredictLabels = Fitted.predict(Image)\n",
    "    ImgW = PredictLabels.shape\n",
    "    Color = []\n",
    "    for p in range(len(PredictLabels)):\n",
    "        Color.append(ColorValuesMap[(ColorLabels.index(PredictLabels[p]))])\n",
    "    plt.imshow(np.reshape(Color,(w,h,3)))\n",
    "    plt.show()\n",
    "    return\n",
    "\n",
    "\n",
    "# builds a multiclass confusion matrix\n",
    "def ConfusionMatrix(yt, yh,FileName): \n",
    "    CM = np.zeros((len(FishCategories), len(FishCategories)))\n",
    "    for i in range(len(yt)):\n",
    "        AP = yt[i]\n",
    "        PP = yh[i]\n",
    "        CM[AP][PP] = CM[AP][PP] + 1\n",
    "    s = sns.heatmap(CM, \n",
    "                linewidth=0.5,\n",
    "                square=True, \n",
    "                cmap='viridis',\n",
    "                annot=True,\n",
    "                fmt= '.0f',\n",
    "                xticklabels=FishCategories, \n",
    "                yticklabels=FishCategories)\n",
    "    s.set(xlabel='Predicted', ylabel='Actual')\n",
    "    results_path = str(FileName)\n",
    "    plt.savefig('GUI Images/'+results_path,bbox_inches='tight', dpi=65)\n",
    "    return CM, plt.show()\n",
    "\n",
    "def GetRocGraphValues(CM):\n",
    "    CM = CM[0]\n",
    "    for thresh in np.linspace(0, 1, 100):\n",
    "        TP = 0\n",
    "        FP = 0\n",
    "        for col in range(9):\n",
    "            TP = TP + CM[col][col]\n",
    "            for row in range(9):\n",
    "                if row > col:\n",
    "                    FP = FP + CM[row][col]\n",
    "        tpr = TP/(TP+FP)\n",
    "        fpr = FP/(FP+TP)\n",
    "    return tpr, fpr "
   ]
  },
  {
   "cell_type": "markdown",
   "metadata": {},
   "source": [
    "### Getting Images"
   ]
  },
  {
   "cell_type": "code",
   "execution_count": 3,
   "metadata": {},
   "outputs": [
    {
     "name": "stdout",
     "output_type": "stream",
     "text": [
      "Getting Images\n",
      "Retrieved 0 Images of 9000\n",
      "Retrieved 1500 Images of 9000\n",
      "Retrieved 3000 Images of 9000\n",
      "Retrieved 4500 Images of 9000\n",
      "Retrieved 6000 Images of 9000\n",
      "Retrieved 7500 Images of 9000\n",
      "Retrieved 9000 Images of 9000\n"
     ]
    }
   ],
   "source": [
    "#If the zip file of the images is found in the working directory, then it will start pulling it into \n",
    "#python otherwise it will download the dataset and pull it into memory\n",
    "\n",
    "if os.path.exists(os.path.join(os.getcwd (),'archive.zip')):\n",
    "    pass\n",
    "else:\n",
    "    DownloadDataset()\n",
    "ColorImages, ImageLabels, FishPosition = GetData() "
   ]
  },
  {
   "cell_type": "markdown",
   "metadata": {},
   "source": [
    "### Modifying the images to make them more unique"
   ]
  },
  {
   "cell_type": "code",
   "execution_count": 4,
   "metadata": {},
   "outputs": [
    {
     "name": "stdout",
     "output_type": "stream",
     "text": [
      "0 images blurred and resized.\n",
      "1500 images blurred and resized.\n",
      "3000 images blurred and resized.\n",
      "4500 images blurred and resized.\n",
      "6000 images blurred and resized.\n",
      "7500 images blurred and resized.\n"
     ]
    }
   ],
   "source": [
    "ResizeImages = []\n",
    "for i in range(9000):\n",
    "    img_ = ColorImages[i]\n",
    "    img_ = cv2.blur(img_,(random.randint(1,3),random.randint(1,3)))\n",
    "    img_ = cv2.resize(img_,(50,50))\n",
    "    ResizeImages.append(img_)  \n",
    "    if i % 1500 == 0:\n",
    "        print(i, \"images blurred and resized.\")\n",
    "ResizeImages = np.array(ResizeImages)"
   ]
  },
  {
   "cell_type": "markdown",
   "metadata": {},
   "source": [
    "### Pre-Processing and Model Training for CNN"
   ]
  },
  {
   "cell_type": "code",
   "execution_count": 5,
   "metadata": {},
   "outputs": [
    {
     "name": "stdout",
     "output_type": "stream",
     "text": [
      "Epoch 1/5\n",
      "242/242 [==============================] - 21s 83ms/step - loss: 1.1434 - accuracy: 0.5828\n",
      "Epoch 2/5\n",
      "242/242 [==============================] - 22s 91ms/step - loss: 0.3993 - accuracy: 0.8615\n",
      "Epoch 3/5\n",
      "242/242 [==============================] - 24s 101ms/step - loss: 0.1700 - accuracy: 0.9453\n",
      "Epoch 4/5\n",
      "242/242 [==============================] - 26s 105ms/step - loss: 0.0936 - accuracy: 0.9697\n",
      "Epoch 5/5\n",
      "242/242 [==============================] - 23s 93ms/step - loss: 0.0646 - accuracy: 0.9791\n",
      "Saved model to disk\n"
     ]
    }
   ],
   "source": [
    "TimeToTrain = []\n",
    "\n",
    "start = time.time()\n",
    "CNNFitted,CNNX_test, CNNY_test_label,CNNX_train,CNNY_train_label = BuildCNN(50,50,25,5,ResizeImages,ImageLabels,3)\n",
    "end = time.time()\n",
    "TimeToTrain.append([\"CNN\",\"Preprocessing and Training\",end - start])\n",
    "SaveFile(CNNFitted,'CNNModel/'+'CNNModel.h5')\n"
   ]
  },
  {
   "cell_type": "markdown",
   "metadata": {},
   "source": [
    "### Getting CNN Results"
   ]
  },
  {
   "cell_type": "code",
   "execution_count": 6,
   "metadata": {},
   "outputs": [
    {
     "name": "stdout",
     "output_type": "stream",
     "text": [
      "CNN\n",
      "0.9592592592592593\n"
     ]
    },
    {
     "data": {
      "image/png": "[encoded data removed]",
      "text/plain": [
       "<Figure size 432x288 with 2 Axes>"
      ]
     },
     "metadata": {
      "needs_background": "light"
     },
     "output_type": "display_data"
    },
    {
     "data": {
      "text/plain": [
       "0.9991148456611894"
      ]
     },
     "execution_count": 6,
     "metadata": {},
     "output_type": "execute_result"
    }
   ],
   "source": [
    "# Saving CNN Model\n",
    "CNNFitted = OpenFile('CNNModel/CNNModel.h5')\n",
    "start = time.time()\n",
    "PredictedPercent = CNNFitted.predict(CNNX_test)\n",
    "end = time.time()\n",
    "TimeToTrain.append([\"CNN\",\"Predicting\",end - start])\n",
    "CNNyhat = argmax(PredictedPercent, axis=-1).astype('int')\n",
    "print(\"CNN\")\n",
    "\n",
    "PredictedPercentTrain = CNNFitted.predict(CNNX_train)\n",
    "CNNyhatTrain = argmax(PredictedPercentTrain, axis=-1).astype('int')\n",
    "\n",
    "CNNTTrainingAccuracy = accuracy_score(CNNyhatTrain,CNNY_train_label)\n",
    "CNNTTestingAccuracy = accuracy_score(CNNyhat,CNNY_test_label)\n",
    "print(accuracy_score(CNNyhat,CNNY_test_label))\n",
    "CNNCM=ConfusionMatrix(CNNY_test_label, CNNyhat,\"ConfusionMatrix_CNN.png\")\n",
    "CNN_ROC_Score = roc_auc_score(CNNY_test_label, PredictedPercent, multi_class='ovr')\n",
    "CNN_ROC_Score"
   ]
  },
  {
   "cell_type": "markdown",
   "metadata": {},
   "source": [
    "### Pre-Processing for KNN, SVM, and Random Forest"
   ]
  },
  {
   "cell_type": "code",
   "execution_count": 7,
   "metadata": {},
   "outputs": [
    {
     "name": "stdout",
     "output_type": "stream",
     "text": [
      "Score:  1.0\n",
      "Processed:  0\n",
      "Processed:  1500\n",
      "Processed:  3000\n",
      "Processed:  4500\n",
      "Processed:  6000\n",
      "Processed:  7500\n"
     ]
    }
   ],
   "source": [
    "OriginalImage, NewImageWoMapping, NewImage, ClassifiedLabels ,Counts = ClassifyPixelColor(50,50,100) \n",
    "TrainPixelClassificationModel()\n",
    "\n",
    "TotalCounts = []\n",
    "Fitted = joblib.load(\"NonCNNModels\\PixelClassifierFitted.joblib\")\n",
    "k = 0\n",
    "# Resizing and flattening images\n",
    "StartPreProcessing = time.time()\n",
    "starttime = time.time()\n",
    "for i in ResizeImages:\n",
    "    if k % 1500 == 0: print(\"Processed: \", k)\n",
    "    Image = GetFlattenedImageForClassification(i,50,50)\n",
    "    PredictedLabels = Fitted.predict(Image)\n",
    " \n",
    "    counter = Counter(PredictedLabels) \n",
    "    result = [(key, counter[key]) for key in counter]\n",
    "    zeros = np.zeros(9, dtype=int)\n",
    "    for i in result:\n",
    "        j = ColorLabels.index(i[0])\n",
    "        zeros[j] = i[1]\n",
    "    TotalCounts.append(zeros)\n",
    "    k = k + 1\n",
    "EndPreProcessing = time.time()"
   ]
  },
  {
   "cell_type": "markdown",
   "metadata": {},
   "source": [
    "### KNN, SVM, and Random Forest Training and Model Results"
   ]
  },
  {
   "cell_type": "code",
   "execution_count": 8,
   "metadata": {},
   "outputs": [
    {
     "name": "stdout",
     "output_type": "stream",
     "text": [
      "KNN\n",
      "0.9272727272727272\n"
     ]
    },
    {
     "data": {
      "image/png": "[encoded data removed]",
      "text/plain": [
       "<Figure size 432x288 with 2 Axes>"
      ]
     },
     "metadata": {
      "needs_background": "light"
     },
     "output_type": "display_data"
    },
    {
     "name": "stdout",
     "output_type": "stream",
     "text": [
      "SVM\n",
      "0.8754208754208754\n"
     ]
    },
    {
     "data": {
      "image/png": "[encoded data removed]",
      "text/plain": [
       "<Figure size 432x288 with 2 Axes>"
      ]
     },
     "metadata": {
      "needs_background": "light"
     },
     "output_type": "display_data"
    },
    {
     "name": "stdout",
     "output_type": "stream",
     "text": [
      "Random Forest\n",
      "0.9144781144781144\n"
     ]
    },
    {
     "data": {
      "image/png": "[encoded data removed]",
      "text/plain": [
       "<Figure size 432x288 with 2 Axes>"
      ]
     },
     "metadata": {
      "needs_background": "light"
     },
     "output_type": "display_data"
    }
   ],
   "source": [
    "#Getting the Y labels for the KNN, SVM, and Random Forest models\n",
    "TotalCounts = pd.DataFrame(TotalCounts)\n",
    "TotalCounts.columns = [\"Reds\", \"Oranges\", \"Browns\", \"Tans\", \"Blues\", \"LightBlues\", \"Grays\", \"Whites\", \"Blacks\"]\n",
    "n = 0\n",
    "index = []\n",
    "for j in range(9):\n",
    "    for i in range(1000):\n",
    "         index.append(n)\n",
    "    n = n+1\n",
    "ColorDim = [index]\n",
    "ColorDimDt = pd.DataFrame(np.transpose(ColorDim))\n",
    "\n",
    "X_train, X_test, y_train, y_test = train_test_split(TotalCounts[[\"Reds\", \"Oranges\", \"Browns\", \"Tans\",\"Whites\"]][:],\n",
    "                                                    ColorDimDt[0], test_size=0.33, random_state=42)\n",
    "y_test = np.array(y_test).astype('int')\n",
    "\n",
    "#KNN\n",
    "StartTrainingKNN = time.time()\n",
    "KNN = KNeighborsClassifier(n_neighbors=1)\n",
    "KNNFitted = KNN.fit(X_train, y_train)\n",
    "EndTrainingKNN = time.time()\n",
    "TimeToTrain.append([\"KNN\",\"Preprocessing and Training\",\n",
    "                    (EndPreProcessing - StartPreProcessing) + \n",
    "                    (EndTrainingKNN-StartTrainingKNN)])\n",
    "joblib.dump(KNNFitted, \"NonCNNModels\\KNNModel.joblib\")\n",
    "print(\"KNN\")\n",
    "knnTrainingAccuracy = KNNFitted.score(X_train,y_train)\n",
    "KnnTestedAccuracy = KNNFitted.score(X_test,y_test)\n",
    "print(KNNFitted.score(X_test,y_test))\n",
    "\n",
    "\n",
    "start = time.time()\n",
    "KNNYhat = np.array(KNNFitted.predict(X_test)).astype('int')\n",
    "end = time.time()\n",
    "TimeToTrain.append([\"KNN\",\"Predicting\",(end - start)])\n",
    "KNNCM = ConfusionMatrix(y_test, KNNYhat,\"ConfusionMatrix_KNN.png\")\n",
    "KNN_ROC_Score = roc_auc_score(y_test, KNNFitted.predict_proba(X_test), multi_class='ovr')\n",
    "\n",
    "\n",
    "#SVM\n",
    "SVM = SVC(kernel = 'rbf' ,C=10000, decision_function_shape='ovr',probability = True)\n",
    "StartTrainingSVM = time.time()\n",
    "SVMFitted = SVM.fit(X_train, y_train)\n",
    "EndTrainingSVM = time.time()\n",
    "TimeToTrain.append([\"SVM\",\"Preprocessing and Training\",\n",
    "                    (EndPreProcessing - StartPreProcessing)+\n",
    "                    (EndTrainingSVM-StartTrainingSVM)])\n",
    "joblib.dump(SVMFitted, \"NonCNNModels\\SVMModel.joblib\")\n",
    "print(\"SVM\")\n",
    "SVMTrainingAccuracy = SVMFitted.score(X_train,y_train)\n",
    "SVMTestedAccuracy = SVMFitted.score(X_test,y_test)\n",
    "print(SVMFitted.score(X_test,y_test))\n",
    "\n",
    "start = time.time()\n",
    "SVMYhat = np.array(SVMFitted.predict(X_test)).astype('int')\n",
    "end = time.time()\n",
    "TimeToTrain.append([\"SVM\",\"Predicting\",(end - start)])\n",
    "SVMCM = ConfusionMatrix(y_test, SVMYhat,\"ConfusionMatrix_SVM.png\")\n",
    "SVM_ROC_Score = roc_auc_score(y_test, SVMFitted.predict_proba(X_test), multi_class='ovr')\n",
    "\n",
    "\n",
    "#Random Forest\n",
    "RF = RandomForestClassifier(n_estimators=150, \n",
    "                            min_samples_split = 5, \n",
    "                            min_samples_leaf=2,\n",
    "                            max_features = 'sqrt',\n",
    "                            bootstrap = True)\n",
    "StartTrainingRF = time.time()\n",
    "RFFitted = RF.fit(X_train, y_train)\n",
    "EndTrainingRF = time.time()\n",
    "TimeToTrain.append([\"RF\",\"Preprocessing and Training\",\n",
    "                    (EndPreProcessing - StartPreProcessing)+\n",
    "                    (EndTrainingRF-StartTrainingRF)])\n",
    "joblib.dump(RFFitted, \"NonCNNModels\\RFModel.joblib\")\n",
    "print(\"Random Forest\")\n",
    "RFTrainingAccuracy = RFFitted.score(X_train,y_train)\n",
    "RFTestedAccuracy = RFFitted.score(X_test,y_test)\n",
    "print(RFFitted.score(X_test,y_test))\n",
    "\n",
    "start = time.time()\n",
    "RFYhat = np.array(RFFitted.predict(X_test)).astype('int')\n",
    "end = time.time()\n",
    "TimeToTrain.append([\"RF\",\"Predicting\",(end - start)])\n",
    "RFCM = ConfusionMatrix(y_test, RFYhat,\"ConfusionMatrix_RF.png\")\n",
    "RF_ROC_Score = roc_auc_score(y_test, RFFitted.predict_proba(X_test), multi_class='ovr')\n",
    "\n"
   ]
  },
  {
   "cell_type": "markdown",
   "metadata": {},
   "source": [
    "### Build ROC Plot"
   ]
  },
  {
   "cell_type": "code",
   "execution_count": 9,
   "metadata": {},
   "outputs": [
    {
     "data": {
      "image/png": "[encoded data removed]",
      "text/plain": [
       "<Figure size 432x288 with 1 Axes>"
      ]
     },
     "metadata": {
      "needs_background": "light"
     },
     "output_type": "display_data"
    }
   ],
   "source": [
    "fig, ax = plt.subplots()\n",
    "CNNtpr,CNNfpr = GetRocGraphValues(CNNCM)\n",
    "KNNtpr,KNNfpr = GetRocGraphValues(KNNCM)\n",
    "SVMtpr,SVMfpr = GetRocGraphValues(SVMCM)\n",
    "RFtpr,RFfpr = GetRocGraphValues(RFCM)\n",
    "ax.scatter(CNNfpr, CNNtpr, color = 'black',marker = '>', s = 150,label = 'CNN')\n",
    "ax.scatter(KNNfpr, KNNtpr, color = 'blue',marker = 'o', s = 150,label = 'KNN')\n",
    "ax.scatter(SVMfpr, SVMtpr, color = 'brown',marker = 'v', s = 150,label = 'SVM')\n",
    "ax.scatter(RFfpr, RFtpr, color = 'green',marker = 'x', s = 150,label = 'RF')\n",
    "ax.scatter(np.linspace(0, 1, 100),\n",
    "         np.linspace(0, 1, 100),\n",
    "         label='baseline',\n",
    "         marker = '.')\n",
    "plt.title('Receiver Operating Characteristic Curve', fontsize=18)\n",
    "plt.ylabel('TPR', fontsize=16)\n",
    "plt.xlabel('FPR', fontsize=16)\n",
    "plt.legend(fontsize=12)\n",
    "rp = str(\"GUI Images\\ROC-AUC.png\")\n",
    "plt.savefig(rp, dpi = 63);    "
   ]
  },
  {
   "cell_type": "markdown",
   "metadata": {},
   "source": [
    "### Building Results Table"
   ]
  },
  {
   "cell_type": "code",
   "execution_count": 10,
   "metadata": {
    "scrolled": true
   },
   "outputs": [
    {
     "data": {
      "text/html": [
       "<div>\n",
       "<style scoped>\n",
       "    .dataframe tbody tr th:only-of-type {\n",
       "        vertical-align: middle;\n",
       "    }\n",
       "\n",
       "    .dataframe tbody tr th {\n",
       "        vertical-align: top;\n",
       "    }\n",
       "\n",
       "    .dataframe thead th {\n",
       "        text-align: right;\n",
       "    }\n",
       "</style>\n",
       "<table border=\"1\" class=\"dataframe\">\n",
       "  <thead>\n",
       "    <tr style=\"text-align: right;\">\n",
       "      <th></th>\n",
       "      <th>Model</th>\n",
       "      <th>Training Accuracy</th>\n",
       "      <th>Testing Accuracy</th>\n",
       "      <th>Preprocessing and Training (Sec)</th>\n",
       "      <th>Predicting 2,970 Images (Sec)</th>\n",
       "      <th>ROC-AUCScore</th>\n",
       "    </tr>\n",
       "  </thead>\n",
       "  <tbody>\n",
       "    <tr>\n",
       "      <th>0</th>\n",
       "      <td>CNN</td>\n",
       "      <td>0.991211</td>\n",
       "      <td>0.959259</td>\n",
       "      <td>116.67639017105103</td>\n",
       "      <td>2.623448610305786</td>\n",
       "      <td>0.999115</td>\n",
       "    </tr>\n",
       "    <tr>\n",
       "      <th>1</th>\n",
       "      <td>KNN</td>\n",
       "      <td>1.0</td>\n",
       "      <td>0.927273</td>\n",
       "      <td>16.243696451187134</td>\n",
       "      <td>0.08482027053833008</td>\n",
       "      <td>0.959287</td>\n",
       "    </tr>\n",
       "    <tr>\n",
       "      <th>2</th>\n",
       "      <td>SVM</td>\n",
       "      <td>0.928856</td>\n",
       "      <td>0.875421</td>\n",
       "      <td>41.47870421409607</td>\n",
       "      <td>0.7344093322753906</td>\n",
       "      <td>0.990765</td>\n",
       "    </tr>\n",
       "    <tr>\n",
       "      <th>3</th>\n",
       "      <td>RF</td>\n",
       "      <td>0.993698</td>\n",
       "      <td>0.914478</td>\n",
       "      <td>17.305158376693726</td>\n",
       "      <td>0.09015274047851562</td>\n",
       "      <td>0.995119</td>\n",
       "    </tr>\n",
       "  </tbody>\n",
       "</table>\n",
       "</div>"
      ],
      "text/plain": [
       "  Model Training Accuracy Testing Accuracy Preprocessing and Training (Sec)  \\\n",
       "0   CNN          0.991211         0.959259               116.67639017105103   \n",
       "1   KNN               1.0         0.927273               16.243696451187134   \n",
       "2   SVM          0.928856         0.875421                41.47870421409607   \n",
       "3    RF          0.993698         0.914478               17.305158376693726   \n",
       "\n",
       "  Predicting 2,970 Images (Sec) ROC-AUCScore  \n",
       "0             2.623448610305786     0.999115  \n",
       "1           0.08482027053833008     0.959287  \n",
       "2            0.7344093322753906     0.990765  \n",
       "3           0.09015274047851562     0.995119  "
      ]
     },
     "execution_count": 10,
     "metadata": {},
     "output_type": "execute_result"
    }
   ],
   "source": [
    "TimeDataFrame = pd.DataFrame(np.array(TimeToTrain))\n",
    "TimeDataFrame.columns = [\"Model\",\"TimeType\",\"Time (Seconds)\"]\n",
    "Predicting = TimeDataFrame[TimeDataFrame[\"TimeType\"]=='Predicting'][\"Time (Seconds)\"]\n",
    "Training = TimeDataFrame[TimeDataFrame[\"TimeType\"]=='Preprocessing and Training'][\"Time (Seconds)\"]\n",
    "TrainingAccuracy = [CNNTTrainingAccuracy, knnTrainingAccuracy, SVMTrainingAccuracy, RFTrainingAccuracy]\n",
    "TestingAccuracy = [CNNTTestingAccuracy, KnnTestedAccuracy, SVMTestedAccuracy, RFTestedAccuracy]\n",
    "ROC = [CNN_ROC_Score, KNN_ROC_Score,SVM_ROC_Score, RF_ROC_Score]\n",
    "TimeDataFrameClean = pd.DataFrame(np.transpose(np.array([['CNN',\"KNN\",\"SVM\",\"RF\"],TrainingAccuracy, TestingAccuracy, Training,Predicting, ROC])))\n",
    "TimeDataFrameClean.columns = [\"Model\",\"Training Accuracy\",\"Testing Accuracy\",\"Preprocessing and Training (Sec)\", \"Predicting 2,970 Images (Sec)\",\"ROC-AUCScore\"]\n",
    "dfi.export(TimeDataFrameClean,\"GUI Images\\TimeTable.png\")\n",
    "TimeDataFrameClean\n"
   ]
  },
  {
   "cell_type": "markdown",
   "metadata": {},
   "source": [
    "### Tuning Hyper Parameters"
   ]
  },
  {
   "cell_type": "code",
   "execution_count": 12,
   "metadata": {},
   "outputs": [
    {
     "name": "stdout",
     "output_type": "stream",
     "text": [
      "1 :  1.0   0.958922558922559\n",
      "2 :  0.9825870646766169   0.9407407407407408\n",
      "3 :  0.9824212271973466   0.9373737373737374\n",
      "4 :  0.969485903814262   0.9282828282828283\n",
      "5 :  0.9625207296849088   0.926936026936027\n",
      "6 :  0.952072968490879   0.9161616161616162\n",
      "7 :  0.9480928689883914   0.9141414141414141\n",
      "8 :  0.9402985074626866   0.9043771043771044\n",
      "9 :  0.9348258706467661   0.8976430976430977\n",
      "10 :  0.9260364842454395   0.8915824915824916\n",
      "11 :  0.9195688225538972   0.8845117845117845\n",
      "12 :  0.908955223880597   0.8814814814814815\n",
      "13 :  0.9001658374792704   0.8747474747474747\n",
      "14 :  0.890049751243781   0.8643097643097644\n",
      "15 :  0.8832504145936981   0.8582491582491583\n",
      "16 :  0.875290215588723   0.8511784511784511\n",
      "17 :  0.8716417910447761   0.8457912457912458\n",
      "18 :  0.8658374792703151   0.8393939393939394\n",
      "19 :  0.8603648424543947   0.8343434343434344\n",
      "20 :  0.8525704809286899   0.8255892255892255\n",
      "21 :  0.8442786069651741   0.8225589225589226\n",
      "22 :  0.8384742951907131   0.8178451178451178\n",
      "23 :  0.8339966832504145   0.8148148148148148\n",
      "24 :  0.8283582089552238   0.8111111111111111\n",
      "25 :  0.8190713101160862   0.8033670033670034\n"
     ]
    },
    {
     "data": {
      "image/png": "[encoded data removed]",
      "text/plain": [
       "<Figure size 432x288 with 1 Axes>"
      ]
     },
     "metadata": {
      "needs_background": "light"
     },
     "output_type": "display_data"
    }
   ],
   "source": [
    "#KNN Grid Search\n",
    "for k in range(25):\n",
    "    KNN = KNeighborsClassifier(n_neighbors=k+1)\n",
    "    KNNFitted = KNN.fit(X_train, y_train)\n",
    "    knnTrainingAccuracy = KNNFitted.score(X_train,y_train)\n",
    "    KnnTestedAccuracy = KNNFitted.score(X_test,y_test)\n",
    "    print(k+1,': ',knnTrainingAccuracy,' ',KnnTestedAccuracy)\n",
    "    plt.scatter(k+1,KnnTestedAccuracy)\n",
    "plt.show()"
   ]
  },
  {
   "cell_type": "code",
   "execution_count": 13,
   "metadata": {},
   "outputs": [
    {
     "name": "stdout",
     "output_type": "stream",
     "text": [
      "auto   poly   250 :  0.9223880597014925   0.568013468013468\n",
      "auto   poly   500 :  0.9223880597014925   0.6043771043771043\n",
      "auto   poly   750 :  0.9223880597014925   0.6158249158249158\n",
      "auto   poly   1000 :  0.9223880597014925   0.6255892255892256\n",
      "auto   poly   1500 :  0.9223880597014925   0.6356902356902356\n",
      "auto   poly   2000 :  0.9223880597014925   0.6484848484848484\n",
      "auto   poly   10000 :  0.9223880597014925   0.6922558922558922\n",
      "['auto', ' ', 'poly', ' ', 10000, ': ', 0.9223880597014925, ' ', 0.6922558922558922]\n",
      "auto   rbf   250 :  0.9223880597014925   0.6892255892255892\n",
      "auto   rbf   500 :  0.9223880597014925   0.7070707070707071\n",
      "auto   rbf   750 :  0.9223880597014925   0.7151515151515152\n",
      "auto   rbf   1000 :  0.9223880597014925   0.725925925925926\n",
      "auto   rbf   1500 :  0.9223880597014925   0.7387205387205387\n",
      "auto   rbf   2000 :  0.9223880597014925   0.7457912457912458\n",
      "auto   rbf   10000 :  0.9223880597014925   0.7781144781144781\n",
      "['auto', ' ', 'rbf', ' ', 10000, ': ', 0.9223880597014925, ' ', 0.7781144781144781]\n",
      "auto   sigmoid   250 :  0.9223880597014925   0.4457912457912458\n",
      "auto   sigmoid   500 :  0.9223880597014925   0.39595959595959596\n",
      "auto   sigmoid   750 :  0.9223880597014925   0.3875420875420875\n",
      "auto   sigmoid   1000 :  0.9223880597014925   0.3717171717171717\n",
      "auto   sigmoid   1500 :  0.9223880597014925   0.35589225589225587\n",
      "auto   sigmoid   2000 :  0.9223880597014925   0.3468013468013468\n",
      "auto   sigmoid   10000 :  0.9223880597014925   0.33164983164983164\n",
      "['auto', ' ', 'rbf', ' ', 10000, ': ', 0.9223880597014925, ' ', 0.7781144781144781]\n",
      "1   poly   250 :  0.9223880597014925   0.7104377104377104\n",
      "1   poly   500 :  0.9223880597014925   0.7282828282828283\n",
      "1   poly   750 :  0.9223880597014925   0.735016835016835\n",
      "1   poly   1000 :  0.9223880597014925   0.7407407407407407\n",
      "1   poly   1500 :  0.9223880597014925   0.7464646464646465\n",
      "1   poly   2000 :  0.9223880597014925   0.7511784511784512\n",
      "1   poly   10000 :  0.9223880597014925   0.7811447811447811\n",
      "[1, ' ', 'poly', ' ', 10000, ': ', 0.9223880597014925, ' ', 0.7811447811447811]\n",
      "1   rbf   250 :  0.9223880597014925   0.7932659932659932\n",
      "1   rbf   500 :  0.9223880597014925   0.8097643097643098\n",
      "1   rbf   750 :  0.9223880597014925   0.8205387205387206\n",
      "1   rbf   1000 :  0.9223880597014925   0.8313131313131313\n",
      "1   rbf   1500 :  0.9223880597014925   0.8407407407407408\n",
      "1   rbf   2000 :  0.9223880597014925   0.8461279461279462\n",
      "1   rbf   10000 :  0.9223880597014925   0.8845117845117845\n",
      "[1, ' ', 'rbf', ' ', 10000, ': ', 0.9223880597014925, ' ', 0.8845117845117845]\n",
      "1   sigmoid   250 :  0.9223880597014925   0.2936026936026936\n",
      "1   sigmoid   500 :  0.9223880597014925   0.29259259259259257\n",
      "1   sigmoid   750 :  0.9223880597014925   0.2905723905723906\n",
      "1   sigmoid   1000 :  0.9223880597014925   0.2915824915824916\n",
      "1   sigmoid   1500 :  0.9223880597014925   0.2878787878787879\n",
      "1   sigmoid   2000 :  0.9223880597014925   0.28754208754208754\n",
      "1   sigmoid   10000 :  0.9223880597014925   0.29023569023569024\n",
      "[1, ' ', 'rbf', ' ', 10000, ': ', 0.9223880597014925, ' ', 0.8845117845117845]\n",
      "0.1   poly   250 :  0.9223880597014925   0.45824915824915824\n",
      "0.1   poly   500 :  0.9223880597014925   0.4936026936026936\n",
      "0.1   poly   750 :  0.9223880597014925   0.5185185185185185\n",
      "0.1   poly   1000 :  0.9223880597014925   0.5316498316498316\n",
      "0.1   poly   1500 :  0.9223880597014925   0.5552188552188552\n",
      "0.1   poly   2000 :  0.9223880597014925   0.568013468013468\n",
      "0.1   poly   10000 :  0.9223880597014925   0.6303030303030303\n",
      "[1, ' ', 'rbf', ' ', 10000, ': ', 0.9223880597014925, ' ', 0.8845117845117845]\n",
      "0.1   rbf   250 :  0.9223880597014925   0.6464646464646465\n",
      "0.1   rbf   500 :  0.9223880597014925   0.6636363636363637\n",
      "0.1   rbf   750 :  0.9223880597014925   0.6787878787878788\n",
      "0.1   rbf   1000 :  0.9223880597014925   0.6878787878787879\n",
      "0.1   rbf   1500 :  0.9223880597014925   0.6976430976430976\n",
      "0.1   rbf   2000 :  0.9223880597014925   0.7033670033670034\n",
      "0.1   rbf   10000 :  0.9223880597014925   0.7417508417508417\n",
      "[1, ' ', 'rbf', ' ', 10000, ': ', 0.9223880597014925, ' ', 0.8845117845117845]\n",
      "0.1   sigmoid   250 :  0.9223880597014925   0.5195286195286195\n",
      "0.1   sigmoid   500 :  0.9223880597014925   0.509090909090909\n",
      "0.1   sigmoid   750 :  0.9223880597014925   0.49595959595959593\n",
      "0.1   sigmoid   1000 :  0.9223880597014925   0.48215488215488217\n",
      "0.1   sigmoid   1500 :  0.9223880597014925   0.4663299663299663\n",
      "0.1   sigmoid   2000 :  0.9223880597014925   0.44511784511784513\n",
      "0.1   sigmoid   10000 :  0.9223880597014925   0.36363636363636365\n",
      "[1, ' ', 'rbf', ' ', 10000, ': ', 0.9223880597014925, ' ', 0.8845117845117845]\n",
      "0.01   poly   250 :  0.9223880597014925   0.10505050505050505\n",
      "0.01   poly   500 :  0.9223880597014925   0.10505050505050505\n",
      "0.01   poly   750 :  0.9223880597014925   0.10505050505050505\n",
      "0.01   poly   1000 :  0.9223880597014925   0.10505050505050505\n",
      "0.01   poly   1500 :  0.9223880597014925   0.10505050505050505\n",
      "0.01   poly   2000 :  0.9223880597014925   0.10505050505050505\n",
      "0.01   poly   10000 :  0.9223880597014925   0.10033670033670034\n",
      "[1, ' ', 'rbf', ' ', 10000, ': ', 0.9223880597014925, ' ', 0.8845117845117845]\n",
      "0.01   rbf   250 :  0.9223880597014925   0.5336700336700336\n",
      "0.01   rbf   500 :  0.9223880597014925   0.5333333333333333\n",
      "0.01   rbf   750 :  0.9223880597014925   0.534006734006734\n",
      "0.01   rbf   1000 :  0.9223880597014925   0.538047138047138\n",
      "0.01   rbf   1500 :  0.9223880597014925   0.5464646464646464\n",
      "0.01   rbf   2000 :  0.9223880597014925   0.5508417508417508\n",
      "0.01   rbf   10000 :  0.9223880597014925   0.6178451178451179\n",
      "[1, ' ', 'rbf', ' ', 10000, ': ', 0.9223880597014925, ' ', 0.8845117845117845]\n",
      "0.01   sigmoid   250 :  0.9223880597014925   0.5262626262626262\n",
      "0.01   sigmoid   500 :  0.9223880597014925   0.5303030303030303\n",
      "0.01   sigmoid   750 :  0.9223880597014925   0.5292929292929293\n",
      "0.01   sigmoid   1000 :  0.9223880597014925   0.5282828282828282\n",
      "0.01   sigmoid   1500 :  0.9223880597014925   0.530976430976431\n",
      "0.01   sigmoid   2000 :  0.9223880597014925   0.5313131313131313\n",
      "0.01   sigmoid   10000 :  0.9223880597014925   0.528956228956229\n",
      "[1, ' ', 'rbf', ' ', 10000, ': ', 0.9223880597014925, ' ', 0.8845117845117845]\n",
      "0.001   poly   250 :  0.9223880597014925   0.10505050505050505\n",
      "0.001   poly   500 :  0.9223880597014925   0.10505050505050505\n",
      "0.001   poly   750 :  0.9223880597014925   0.10505050505050505\n",
      "0.001   poly   1000 :  0.9223880597014925   0.10505050505050505\n",
      "0.001   poly   1500 :  0.9223880597014925   0.10505050505050505\n",
      "0.001   poly   2000 :  0.9223880597014925   0.10505050505050505\n",
      "0.001   poly   10000 :  0.9223880597014925   0.10505050505050505\n",
      "[1, ' ', 'rbf', ' ', 10000, ': ', 0.9223880597014925, ' ', 0.8845117845117845]\n",
      "0.001   rbf   250 :  0.9223880597014925   0.5151515151515151\n",
      "0.001   rbf   500 :  0.9223880597014925   0.5191919191919192\n",
      "0.001   rbf   750 :  0.9223880597014925   0.5242424242424243\n",
      "0.001   rbf   1000 :  0.9223880597014925   0.5242424242424243\n",
      "0.001   rbf   1500 :  0.9223880597014925   0.5272727272727272\n",
      "0.001   rbf   2000 :  0.9223880597014925   0.5286195286195287\n",
      "0.001   rbf   10000 :  0.9223880597014925   0.5326599326599326\n",
      "[1, ' ', 'rbf', ' ', 10000, ': ', 0.9223880597014925, ' ', 0.8845117845117845]\n",
      "0.001   sigmoid   250 :  0.9223880597014925   0.5084175084175084\n",
      "0.001   sigmoid   500 :  0.9223880597014925   0.5148148148148148\n",
      "0.001   sigmoid   750 :  0.9223880597014925   0.5164983164983165\n",
      "0.001   sigmoid   1000 :  0.9223880597014925   0.5191919191919192\n",
      "0.001   sigmoid   1500 :  0.9223880597014925   0.5239057239057239\n",
      "0.001   sigmoid   2000 :  0.9223880597014925   0.5242424242424243\n",
      "0.001   sigmoid   10000 :  0.9223880597014925   0.5279461279461279\n",
      "[1, ' ', 'rbf', ' ', 10000, ': ', 0.9223880597014925, ' ', 0.8845117845117845]\n"
     ]
    }
   ],
   "source": [
    "#SVM Hyper Parameters\n",
    "scaler = MinMaxScaler()\n",
    "scaler.fit(X_train)\n",
    "#SVM Grid Search\n",
    "gammas = ['auto',1, 0.1, 0.01,.001]\n",
    "kernals = ['poly', 'rbf', 'sigmoid']\n",
    "cs = [250,500,750,1000,1500,2000,10000]\n",
    "acc = 0 \n",
    "for g in gammas:\n",
    "    for kern in kernals:\n",
    "        i = 1\n",
    "        for c in cs:\n",
    "            SVM = SVC(kernel = kern, C=c, gamma = g, decision_function_shape='ovr')\n",
    "            SVMFitted = SVM.fit(scaler.transform(X_train), y_train)\n",
    "            SVMTestedAccuracy = SVMFitted.score(scaler.transform(X_test),y_test)\n",
    "            print(g,' ',kern,' ',c,': ',SVMTrainingAccuracy,' ',SVMTestedAccuracy)\n",
    "            #plt.scatter(i,SVMTestedAccuracy)\n",
    "            i = i + 1\n",
    "            if SVMTestedAccuracy > acc:\n",
    "                acc = SVMTestedAccuracy\n",
    "                new = [g,' ',kern,' ',c,': ',SVMTrainingAccuracy,' ',SVMTestedAccuracy]\n",
    "        print(new)\n",
    "plt.show() \n"
   ]
  },
  {
   "cell_type": "code",
   "execution_count": 14,
   "metadata": {},
   "outputs": [
    {
     "name": "stdout",
     "output_type": "stream",
     "text": [
      "Fitting 3 folds for each of 100 candidates, totalling 300 fits\n"
     ]
    },
    {
     "data": {
      "text/plain": [
       "RandomForestClassifier(max_features='sqrt', min_samples_leaf=2,\n",
       "                       min_samples_split=5, n_estimators=1757)"
      ]
     },
     "execution_count": 14,
     "metadata": {},
     "output_type": "execute_result"
    }
   ],
   "source": [
    "#Random Forest\n",
    "\n",
    "# Number of trees in random forest\n",
    "n_estimators = [int(x) for x in np.linspace(start = 1, stop = 2000, num = 100)]\n",
    "# Number of features to consider at every split\n",
    "max_features = ['auto', 'sqrt']\n",
    "# Maximum number of levels in tree\n",
    "max_depth = [int(x) for x in np.linspace(1, 5)]\n",
    "max_depth.append(None)\n",
    "# Minimum number of samples required to split a node\n",
    "min_samples_split = [2, 5, 10]\n",
    "# Minimum number of samples required at each leaf node\n",
    "min_samples_leaf = [1, 2, 4]\n",
    "# Method of selecting samples for training each tree\n",
    "bootstrap = [True, False]\n",
    "# Create the random grid\n",
    "random_grid = {'n_estimators': n_estimators,\n",
    "               'max_features': max_features,\n",
    "               'max_depth': max_depth,\n",
    "               'min_samples_split': min_samples_split,\n",
    "               'min_samples_leaf': min_samples_leaf,\n",
    "               'bootstrap': bootstrap}\n",
    "RF = RandomForestClassifier()\n",
    "rf_random = RandomizedSearchCV(estimator = RF, param_distributions = random_grid,\n",
    "                               n_iter = 100, cv = 3, verbose=2,\n",
    "                               random_state=42, n_jobs = -1)\n",
    "# Fit the random search model\n",
    "rf_random.fit(X_train, y_train)\n",
    "rf_random.best_estimator_\n"
   ]
  },
  {
   "cell_type": "markdown",
   "metadata": {},
   "source": [
    "### Understanding incorrectly classified images"
   ]
  },
  {
   "cell_type": "code",
   "execution_count": 15,
   "metadata": {},
   "outputs": [
    {
     "data": {
      "image/png": "[encoded data removed]",
      "text/plain": [
       "<Figure size 432x288 with 1 Axes>"
      ]
     },
     "metadata": {
      "needs_background": "light"
     },
     "output_type": "display_data"
    }
   ],
   "source": [
    "#Incorrect CNN Classifications\n",
    "fishnumber = 6\n",
    "\n",
    "IncorrectActualLabel = []\n",
    "IncorrectPredictedLabel = []\n",
    "CNNX_Incorrect = []\n",
    "for i in range(len(CNNY_test_label)):\n",
    "    if CNNY_test_label[i] != CNNyhat[i]:\n",
    "        IncorrectActualLabel.append(CNNyhat[i])\n",
    "        IncorrectPredictedLabel.append(CNNY_test_label[i])\n",
    "        CNNX_Incorrect.append(CNNX_test[i])\n",
    "CNNX_Incorrect = np.array(CNNX_Incorrect)\n",
    "CNNX_Incorrect.astype('int')\n",
    "plt.imshow(CNNX_Incorrect[fishnumber])\n",
    "plt.title('Actual Label - '+str(FishCategories[np.array(IncorrectPredictedLabel)[fishnumber]])+'\\n'+\n",
    "          'Predicted Label - '+str(FishCategories[np.array(IncorrectActualLabel)[fishnumber]])+'\\n'+\n",
    "          'Confidence in Prediction ' +str(max(PredictedPercent[i]).astype('float')*100)+'%')    \n",
    "plt.show()"
   ]
  },
  {
   "cell_type": "code",
   "execution_count": null,
   "metadata": {},
   "outputs": [],
   "source": []
  }
 ],
 "metadata": {
  "kernelspec": {
   "display_name": "Python 3 (ipykernel)",
   "language": "python",
   "name": "python3"
  },
  "language_info": {
   "codemirror_mode": {
    "name": "ipython",
    "version": 3
   },
   "file_extension": ".py",
   "mimetype": "text/x-python",
   "name": "python",
   "nbconvert_exporter": "python",
   "pygments_lexer": "ipython3",
   "version": "3.9.7"
  }
 },
 "nbformat": 4,
 "nbformat_minor": 4
}
